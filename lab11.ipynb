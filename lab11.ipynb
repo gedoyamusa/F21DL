{
  "nbformat": 4,
  "nbformat_minor": 0,
  "metadata": {
    "colab": {
      "provenance": []
    },
    "kernelspec": {
      "name": "python3",
      "display_name": "Python 3"
    },
    "language_info": {
      "name": "python"
    }
  },
  "cells": [
    {
      "cell_type": "code",
      "execution_count": 2,
      "metadata": {
        "id": "1z9f-7eMZRIh"
      },
      "outputs": [],
      "source": [
        "import tensorflow as tf\n",
        "from tensorflow.keras import datasets , layers , models\n",
        "import matplotlib.pyplot as plt\n",
        "import numpy as np\n",
        "\n"
      ]
    },
    {
      "cell_type": "code",
      "source": [
        "(X_train, y_train), (X_test,y_test) = datasets.cifar10.load_data()\n",
        "X_train.shape"
      ],
      "metadata": {
        "colab": {
          "base_uri": "https://localhost:8080/"
        },
        "id": "JBToI9IIcOUh",
        "outputId": "9b8be5ba-2317-4a11-f29b-e9ab62a6959e"
      },
      "execution_count": 3,
      "outputs": [
        {
          "output_type": "stream",
          "name": "stdout",
          "text": [
            "Downloading data from https://www.cs.toronto.edu/~kriz/cifar-10-python.tar.gz\n",
            "170498071/170498071 [==============================] - 4s 0us/step\n"
          ]
        },
        {
          "output_type": "execute_result",
          "data": {
            "text/plain": [
              "(50000, 32, 32, 3)"
            ]
          },
          "metadata": {},
          "execution_count": 3
        }
      ]
    },
    {
      "cell_type": "code",
      "source": [
        "X_test.shape"
      ],
      "metadata": {
        "colab": {
          "base_uri": "https://localhost:8080/"
        },
        "id": "vjxxCpX8cTaN",
        "outputId": "5826a0f6-155b-4ca8-da90-121376ce5bb2"
      },
      "execution_count": 4,
      "outputs": [
        {
          "output_type": "execute_result",
          "data": {
            "text/plain": [
              "(10000, 32, 32, 3)"
            ]
          },
          "metadata": {},
          "execution_count": 4
        }
      ]
    },
    {
      "cell_type": "code",
      "source": [
        "y_train.shape"
      ],
      "metadata": {
        "colab": {
          "base_uri": "https://localhost:8080/"
        },
        "id": "UdH-TZqIckwi",
        "outputId": "5708fd92-d096-41ca-e6ab-61927ca9a3cb"
      },
      "execution_count": 5,
      "outputs": [
        {
          "output_type": "execute_result",
          "data": {
            "text/plain": [
              "(50000, 1)"
            ]
          },
          "metadata": {},
          "execution_count": 5
        }
      ]
    },
    {
      "cell_type": "code",
      "source": [
        "y_train[:5]"
      ],
      "metadata": {
        "colab": {
          "base_uri": "https://localhost:8080/"
        },
        "id": "ZxqnQkvocn10",
        "outputId": "03c82bcc-9c33-431f-fbad-5e19a293dfe6"
      },
      "execution_count": 6,
      "outputs": [
        {
          "output_type": "execute_result",
          "data": {
            "text/plain": [
              "array([[6],\n",
              "       [9],\n",
              "       [9],\n",
              "       [4],\n",
              "       [1]], dtype=uint8)"
            ]
          },
          "metadata": {},
          "execution_count": 6
        }
      ]
    },
    {
      "cell_type": "code",
      "source": [
        "y_train = y_train.reshape(-1,)\n",
        "y_train[:5]"
      ],
      "metadata": {
        "colab": {
          "base_uri": "https://localhost:8080/"
        },
        "id": "KdHqeP6QcqHj",
        "outputId": "03c40833-6772-4285-ede9-090b849387a1"
      },
      "execution_count": 7,
      "outputs": [
        {
          "output_type": "execute_result",
          "data": {
            "text/plain": [
              "array([6, 9, 9, 4, 1], dtype=uint8)"
            ]
          },
          "metadata": {},
          "execution_count": 7
        }
      ]
    },
    {
      "cell_type": "code",
      "source": [
        "y_test = y_test.reshape(-1,)"
      ],
      "metadata": {
        "id": "2nFTeI2zcynI"
      },
      "execution_count": 8,
      "outputs": []
    },
    {
      "cell_type": "code",
      "source": [
        "classes = [\"airplane\",\"automobile\",\"bird\",\"cat\",\"deer\",\"dog\",\"frog\",\"horse\",\"ship\",\"truck\"]"
      ],
      "metadata": {
        "id": "B5iKrcbxc2hR"
      },
      "execution_count": 9,
      "outputs": []
    },
    {
      "cell_type": "code",
      "source": [
        "def plot_sample(X, y, index):\n",
        "    plt.figure(figsize = (15,2))\n",
        "    plt.imshow(X[index])\n",
        "    plt.xlabel(classes[y[index]])"
      ],
      "metadata": {
        "id": "ClNVlcvZIQF2"
      },
      "execution_count": 10,
      "outputs": []
    },
    {
      "cell_type": "code",
      "source": [
        "plot_sample(X_train, y_train, 0)"
      ],
      "metadata": {
        "colab": {
          "base_uri": "https://localhost:8080/",
          "height": 173
        },
        "id": "NkQb9BOHIknb",
        "outputId": "0fd577b8-d79b-4860-fea8-f74cf3db3af3"
      },
      "execution_count": 11,
      "outputs": [
        {
          "output_type": "display_data",
          "data": {
            "text/plain": [
              "<Figure size 1080x144 with 1 Axes>"
            ],
            "image/png": "[encoded data removed]"
          },
          "metadata": {
            "needs_background": "light"
          }
        }
      ]
    },
    {
      "cell_type": "code",
      "source": [
        "plot_sample(X_train, y_train, 1)"
      ],
      "metadata": {
        "colab": {
          "base_uri": "https://localhost:8080/",
          "height": 173
        },
        "id": "daQcp4SyIny6",
        "outputId": "f6527875-e7aa-4608-a560-7389413032b6"
      },
      "execution_count": 12,
      "outputs": [
        {
          "output_type": "display_data",
          "data": {
            "text/plain": [
              "<Figure size 1080x144 with 1 Axes>"
            ],
            "image/png": "[encoded data removed]"
          },
          "metadata": {
            "needs_background": "light"
          }
        }
      ]
    },
    {
      "cell_type": "markdown",
      "source": [
        "Normalising the training data"
      ],
      "metadata": {
        "id": "WQxLJS-CEpVB"
      }
    },
    {
      "cell_type": "code",
      "source": [
        "X_train = X_train / 255.0\n",
        "X_test = X_test / 255.0"
      ],
      "metadata": {
        "id": "IWmR7MkSIrGR"
      },
      "execution_count": 13,
      "outputs": []
    },
    {
      "cell_type": "markdown",
      "source": [
        "Build a CNN model\n"
      ],
      "metadata": {
        "id": "bShWbEkKE2Af"
      }
    },
    {
      "cell_type": "code",
      "source": [
        "1 architecture"
      ],
      "metadata": {
        "id": "mzFa8kbKOHm4"
      },
      "execution_count": null,
      "outputs": []
    },
    {
      "cell_type": "code",
      "source": [
        "cnn = models.Sequential([\n",
        "    layers.Conv2D(filters=32, kernel_size=(3, 3), activation='relu', input_shape=(32, 32, 3)),\n",
        "    layers.MaxPooling2D((2, 2)),\n",
        "    \n",
        "    layers.Conv2D(filters=64, kernel_size=(3, 3), activation='relu'),\n",
        "    layers.MaxPooling2D((2, 2)),\n",
        "    \n",
        "    layers.Flatten(),\n",
        "    layers.Dense(64, activation='relu'),\n",
        "    layers.Dense(10, activation='softmax')\n",
        "])"
      ],
      "metadata": {
        "id": "qt3dUdaMIwS4"
      },
      "execution_count": 17,
      "outputs": []
    },
    {
      "cell_type": "markdown",
      "source": [],
      "metadata": {
        "id": "AgJfaL7vN9KW"
      }
    },
    {
      "cell_type": "markdown",
      "source": [
        "2 architecture"
      ],
      "metadata": {
        "id": "ixYP4p5bOEsM"
      }
    },
    {
      "cell_type": "code",
      "source": [
        "cnn1 = models.Sequential([\n",
        "    layers.Conv2D(filters=32, kernel_size=(3, 3), activation='relu', input_shape=(32, 32, 3)),\n",
        "    layers.MaxPooling2D((2, 2)),\n",
        "    \n",
        "    layers.Flatten(),\n",
        "    layers.Dense(64, activation='relu'),\n",
        "    layers.Dense(10, activation='softmax')\n",
        "])"
      ],
      "metadata": {
        "id": "cHZs39vTJCnf"
      },
      "execution_count": 22,
      "outputs": []
    },
    {
      "cell_type": "markdown",
      "source": [
        "3 architecture"
      ],
      "metadata": {
        "id": "4bT37255OBW0"
      }
    },
    {
      "cell_type": "code",
      "source": [
        "cnn2 = models.Sequential([\n",
        "    layers.Conv2D(filters=32, kernel_size=(3, 3), activation='relu', input_shape=(32, 32, 3)),\n",
        "    layers.MaxPooling2D((2, 2)),\n",
        "    \n",
        "    layers.Conv2D(filters=64, kernel_size=(3, 3), activation='relu'),\n",
        "    layers.MaxPooling2D((2, 2)),\n",
        "\n",
        "    layers.Conv2D(filters=64, kernel_size=(3, 3), activation='relu'),\n",
        "    layers.MaxPooling2D((2, 2)),\n",
        "    \n",
        "    layers.Flatten(),\n",
        "    layers.Dense(64, activation='relu'),\n",
        "    layers.Dense(10, activation='softmax')\n",
        "])"
      ],
      "metadata": {
        "id": "PjOWKb96JLCK"
      },
      "execution_count": 23,
      "outputs": []
    },
    {
      "cell_type": "code",
      "source": [
        "cnn.compile(optimizer='adam',\n",
        "              loss='sparse_categorical_crossentropy',\n",
        "              metrics=['accuracy'])"
      ],
      "metadata": {
        "id": "5GHRyXSzI6Df"
      },
      "execution_count": 18,
      "outputs": []
    },
    {
      "cell_type": "code",
      "source": [
        "cnn1.compile(optimizer='adam',\n",
        "              loss='sparse_categorical_crossentropy',\n",
        "              metrics=['accuracy'])"
      ],
      "metadata": {
        "id": "J6B-h9L2JiYG"
      },
      "execution_count": 24,
      "outputs": []
    },
    {
      "cell_type": "code",
      "source": [
        "cnn2.compile(optimizer='adam',\n",
        "              loss='sparse_categorical_crossentropy',\n",
        "              metrics=['accuracy'])"
      ],
      "metadata": {
        "id": "uH5bnjpSJmz0"
      },
      "execution_count": 25,
      "outputs": []
    },
    {
      "cell_type": "markdown",
      "source": [
        "We can see the accuracy of 12 epochs is upto 88 %"
      ],
      "metadata": {
        "id": "gdIfjFCOE_C1"
      }
    },
    {
      "cell_type": "code",
      "source": [
        "cnn.fit(X_train, y_train, epochs=12)"
      ],
      "metadata": {
        "colab": {
          "base_uri": "https://localhost:8080/"
        },
        "id": "vpT_xBlbJCN6",
        "outputId": "c00514be-9350-46ef-8e96-8b2ba25fa497"
      },
      "execution_count": null,
      "outputs": [
        {
          "output_type": "stream",
          "name": "stdout",
          "text": [
            "Epoch 1/12\n",
            "1563/1563 [==============================] - 67s 43ms/step - loss: 0.5799 - accuracy: 0.7958\n",
            "Epoch 2/12\n",
            "1563/1563 [==============================] - 70s 45ms/step - loss: 0.5464 - accuracy: 0.8083\n",
            "Epoch 3/12\n",
            "1563/1563 [==============================] - 67s 43ms/step - loss: 0.5143 - accuracy: 0.8199\n",
            "Epoch 4/12\n",
            "1563/1563 [==============================] - 69s 44ms/step - loss: 0.4862 - accuracy: 0.8299\n",
            "Epoch 5/12\n",
            "1563/1563 [==============================] - 69s 44ms/step - loss: 0.4570 - accuracy: 0.8379\n",
            "Epoch 6/12\n",
            "1563/1563 [==============================] - 69s 44ms/step - loss: 0.4311 - accuracy: 0.8471\n",
            "Epoch 7/12\n",
            "1563/1563 [==============================] - 69s 44ms/step - loss: 0.4098 - accuracy: 0.8541\n",
            "Epoch 8/12\n",
            "1563/1563 [==============================] - 68s 43ms/step - loss: 0.3834 - accuracy: 0.8643\n",
            "Epoch 9/12\n",
            "1563/1563 [==============================] - 71s 45ms/step - loss: 0.3591 - accuracy: 0.8715\n",
            "Epoch 10/12\n",
            "1563/1563 [==============================] - 68s 44ms/step - loss: 0.3446 - accuracy: 0.8774\n",
            "Epoch 11/12\n",
            "1563/1563 [==============================] - 70s 45ms/step - loss: 0.3211 - accuracy: 0.8853\n",
            "Epoch 12/12\n",
            "1563/1563 [==============================] - 68s 43ms/step - loss: 0.3039 - accuracy: 0.8913\n"
          ]
        },
        {
          "output_type": "execute_result",
          "data": {
            "text/plain": [
              "<keras.callbacks.History at 0x7fee563982d0>"
            ]
          },
          "metadata": {},
          "execution_count": 21
        }
      ]
    },
    {
      "cell_type": "code",
      "source": [
        "cnn1.fit(X_train, y_train, epochs=2)"
      ],
      "metadata": {
        "colab": {
          "base_uri": "https://localhost:8080/"
        },
        "id": "rXOTrqyaJx2v",
        "outputId": "981af8b0-15ef-4115-9e1e-0fe2cdca2ddc"
      },
      "execution_count": 27,
      "outputs": [
        {
          "output_type": "stream",
          "name": "stdout",
          "text": [
            "Epoch 1/2\n",
            "1563/1563 [==============================] - 44s 28ms/step - loss: 1.0810 - accuracy: 0.6235\n",
            "Epoch 2/2\n",
            "1563/1563 [==============================] - 39s 25ms/step - loss: 1.0124 - accuracy: 0.6479\n"
          ]
        },
        {
          "output_type": "execute_result",
          "data": {
            "text/plain": [
              "<keras.callbacks.History at 0x7f76b938e3d0>"
            ]
          },
          "metadata": {},
          "execution_count": 27
        }
      ]
    },
    {
      "cell_type": "code",
      "source": [
        "cnn2.fit(X_train, y_train, epochs=2)"
      ],
      "metadata": {
        "colab": {
          "base_uri": "https://localhost:8080/"
        },
        "id": "YmmotU7OJ2CY",
        "outputId": "1c8446b7-00bd-4104-d1b8-550f7675e0cc"
      },
      "execution_count": 28,
      "outputs": [
        {
          "output_type": "stream",
          "name": "stdout",
          "text": [
            "Epoch 1/2\n",
            "1563/1563 [==============================] - 82s 52ms/step - loss: 1.5718 - accuracy: 0.4244\n",
            "Epoch 2/2\n",
            "1563/1563 [==============================] - 73s 47ms/step - loss: 1.2197 - accuracy: 0.5653\n"
          ]
        },
        {
          "output_type": "execute_result",
          "data": {
            "text/plain": [
              "<keras.callbacks.History at 0x7f76b9331310>"
            ]
          },
          "metadata": {},
          "execution_count": 28
        }
      ]
    },
    {
      "cell_type": "code",
      "source": [
        "cnn.evaluate(X_test,y_test)"
      ],
      "metadata": {
        "colab": {
          "base_uri": "https://localhost:8080/"
        },
        "id": "-jdcA7bKJFNz",
        "outputId": "4551a793-02c5-4235-db67-d307429e2a01"
      },
      "execution_count": 19,
      "outputs": [
        {
          "output_type": "stream",
          "name": "stdout",
          "text": [
            "313/313 [==============================] - 5s 13ms/step - loss: 2.3026 - accuracy: 0.0980\n"
          ]
        },
        {
          "output_type": "execute_result",
          "data": {
            "text/plain": [
              "[2.3025641441345215, 0.09799999743700027]"
            ]
          },
          "metadata": {},
          "execution_count": 19
        }
      ]
    },
    {
      "cell_type": "code",
      "source": [
        "cnn1.evaluate(X_test,y_test)"
      ],
      "metadata": {
        "colab": {
          "base_uri": "https://localhost:8080/"
        },
        "id": "Ru142YzpKqt-",
        "outputId": "2dab42d4-ec42-41f4-a198-2a28022913e2"
      },
      "execution_count": 29,
      "outputs": [
        {
          "output_type": "stream",
          "name": "stdout",
          "text": [
            "313/313 [==============================] - 3s 9ms/step - loss: 1.0915 - accuracy: 0.6267\n"
          ]
        },
        {
          "output_type": "execute_result",
          "data": {
            "text/plain": [
              "[1.0915220975875854, 0.6266999840736389]"
            ]
          },
          "metadata": {},
          "execution_count": 29
        }
      ]
    },
    {
      "cell_type": "code",
      "source": [
        "cnn2.evaluate(X_test,y_test)"
      ],
      "metadata": {
        "colab": {
          "base_uri": "https://localhost:8080/"
        },
        "id": "9gLEY910LM_G",
        "outputId": "e81de888-941e-4ec7-bcf5-b2a9c019fa15"
      },
      "execution_count": 30,
      "outputs": [
        {
          "output_type": "stream",
          "name": "stdout",
          "text": [
            "313/313 [==============================] - 5s 15ms/step - loss: 1.1686 - accuracy: 0.5882\n"
          ]
        },
        {
          "output_type": "execute_result",
          "data": {
            "text/plain": [
              "[1.16862154006958, 0.5881999731063843]"
            ]
          },
          "metadata": {},
          "execution_count": 30
        }
      ]
    },
    {
      "cell_type": "code",
      "source": [
        "y_pred = cnn.predict(X_test)\n",
        "y_pred[:5]"
      ],
      "metadata": {
        "colab": {
          "base_uri": "https://localhost:8080/"
        },
        "id": "gi11mTdEMH_h",
        "outputId": "39f2a026-07ed-4218-beb6-676bd0f5791d"
      },
      "execution_count": null,
      "outputs": [
        {
          "output_type": "stream",
          "name": "stdout",
          "text": [
            "313/313 [==============================] - 6s 18ms/step\n"
          ]
        },
        {
          "output_type": "execute_result",
          "data": {
            "text/plain": [
              "array([[2.7984568e-06, 7.9895362e-06, 1.2312376e-05, 9.9622041e-01,\n",
              "        5.8153088e-05, 2.2772090e-03, 1.4205362e-03, 2.7391565e-07,\n",
              "        4.6554422e-07, 1.1327044e-08],\n",
              "       [1.8269326e-06, 5.0113606e-03, 7.6466932e-08, 1.9414369e-10,\n",
              "        1.2731359e-13, 3.3657894e-13, 1.2342529e-13, 3.2241601e-10,\n",
              "        9.9478787e-01, 1.9878354e-04],\n",
              "       [4.4657297e-02, 1.0545939e-02, 5.1937200e-04, 3.2635042e-03,\n",
              "        1.1934693e-04, 3.9356892e-04, 2.4961117e-05, 2.1714140e-03,\n",
              "        9.2969298e-01, 8.6115561e-03],\n",
              "       [9.9837905e-01, 1.4420642e-09, 6.6115154e-04, 1.7083607e-05,\n",
              "        3.9110652e-09, 3.9920737e-11, 4.3290180e-11, 6.8135934e-11,\n",
              "        9.4271114e-04, 2.7561009e-09],\n",
              "       [1.2982894e-12, 8.4791427e-09, 2.4148084e-04, 1.1860857e-03,\n",
              "        7.6223491e-03, 6.6162465e-07, 9.9094945e-01, 2.5383592e-10,\n",
              "        1.8184022e-11, 3.8889057e-12]], dtype=float32)"
            ]
          },
          "metadata": {},
          "execution_count": 23
        }
      ]
    },
    {
      "cell_type": "code",
      "source": [
        "y_pred = cnn1.predict(X_test)\n",
        "y_pred[:5]"
      ],
      "metadata": {
        "colab": {
          "base_uri": "https://localhost:8080/"
        },
        "id": "NzTMyIt6M_Wa",
        "outputId": "53f4ad87-57b8-40dc-d63c-cff6e47889c4"
      },
      "execution_count": 38,
      "outputs": [
        {
          "output_type": "stream",
          "name": "stdout",
          "text": [
            "313/313 [==============================] - 3s 9ms/step\n"
          ]
        },
        {
          "output_type": "execute_result",
          "data": {
            "text/plain": [
              "array([[1.54400375e-02, 2.37719319e-03, 9.32159834e-03, 5.36989093e-01,\n",
              "        3.68447183e-03, 1.36906520e-01, 9.14121345e-02, 9.16498364e-04,\n",
              "        1.99850500e-01, 3.10185808e-03],\n",
              "       [5.62700815e-02, 3.13071758e-01, 1.69209470e-05, 1.43177294e-06,\n",
              "        1.30045908e-06, 5.21030579e-08, 7.91679895e-08, 5.14097508e-07,\n",
              "        6.28094435e-01, 2.54334579e-03],\n",
              "       [4.52697873e-01, 1.14624761e-01, 2.17035250e-03, 1.05020229e-03,\n",
              "        2.37338128e-04, 1.42158970e-04, 1.54930749e-05, 6.32054813e-04,\n",
              "        3.55720252e-01, 7.27093965e-02],\n",
              "       [6.50951087e-01, 2.08478756e-02, 5.34792244e-03, 4.37312614e-04,\n",
              "        1.90980511e-03, 3.24091743e-05, 3.37293255e-04, 5.40993293e-04,\n",
              "        3.17975104e-01, 1.62032049e-03],\n",
              "       [4.68435785e-04, 3.24107357e-03, 4.26049381e-02, 1.05561659e-01,\n",
              "        3.74514610e-01, 6.71270415e-02, 4.00838375e-01, 6.25657733e-04,\n",
              "        3.50640365e-03, 1.51174655e-03]], dtype=float32)"
            ]
          },
          "metadata": {},
          "execution_count": 38
        }
      ]
    },
    {
      "cell_type": "code",
      "source": [
        "y_pred = cnn2.predict(X_test)\n",
        "y_pred[:5]"
      ],
      "metadata": {
        "colab": {
          "base_uri": "https://localhost:8080/"
        },
        "id": "Q8jeV3TeNM_M",
        "outputId": "fbb27d2e-3587-41f9-c674-25d5d37f4c4e"
      },
      "execution_count": 39,
      "outputs": [
        {
          "output_type": "stream",
          "name": "stdout",
          "text": [
            "313/313 [==============================] - 5s 15ms/step\n"
          ]
        },
        {
          "output_type": "execute_result",
          "data": {
            "text/plain": [
              "array([[1.11229466e-02, 3.44748539e-03, 2.02500466e-02, 6.47999048e-01,\n",
              "        4.66283271e-03, 1.63324416e-01, 6.16577268e-02, 1.61280786e-03,\n",
              "        8.04907680e-02, 5.43198409e-03],\n",
              "       [1.81784451e-01, 6.08318925e-01, 8.26342948e-05, 3.00048737e-06,\n",
              "        1.67561211e-05, 1.65960910e-06, 1.83492398e-06, 9.08836810e-05,\n",
              "        1.76716149e-01, 3.29836868e-02],\n",
              "       [4.06771243e-01, 2.64711082e-01, 1.15672257e-02, 1.21233764e-03,\n",
              "        3.71295959e-03, 9.81344259e-04, 5.47477801e-04, 5.27276844e-03,\n",
              "        2.04349428e-01, 1.00874074e-01],\n",
              "       [5.98353744e-01, 2.76809298e-02, 4.85237576e-02, 8.55344464e-04,\n",
              "        3.16946697e-03, 1.79606868e-04, 7.49993837e-04, 1.37475668e-04,\n",
              "        3.18383545e-01, 1.96623150e-03],\n",
              "       [2.63593555e-03, 2.20521051e-03, 1.04519427e-01, 1.38932586e-01,\n",
              "        2.04878315e-01, 4.95276004e-02, 4.94222909e-01, 1.87996146e-03,\n",
              "        9.20269289e-04, 2.77683983e-04]], dtype=float32)"
            ]
          },
          "metadata": {},
          "execution_count": 39
        }
      ]
    },
    {
      "cell_type": "code",
      "source": [
        "y_classes = [np.argmax(element) for element in y_pred]\n",
        "y_classes[:5]"
      ],
      "metadata": {
        "colab": {
          "base_uri": "https://localhost:8080/"
        },
        "id": "wjxpGg5VMMPC",
        "outputId": "2eb30149-dafa-4b49-dd83-44b3477e2de8"
      },
      "execution_count": null,
      "outputs": [
        {
          "output_type": "execute_result",
          "data": {
            "text/plain": [
              "[3, 8, 8, 0, 6]"
            ]
          },
          "metadata": {},
          "execution_count": 24
        }
      ]
    },
    {
      "cell_type": "code",
      "source": [
        "y_test[:5]"
      ],
      "metadata": {
        "colab": {
          "base_uri": "https://localhost:8080/"
        },
        "id": "CItQLfuxMXSS",
        "outputId": "a53d4176-5124-4a97-e6c4-a796b629467e"
      },
      "execution_count": null,
      "outputs": [
        {
          "output_type": "execute_result",
          "data": {
            "text/plain": [
              "array([3, 8, 8, 0, 6], dtype=uint8)"
            ]
          },
          "metadata": {},
          "execution_count": 25
        }
      ]
    },
    {
      "cell_type": "code",
      "source": [
        "plot_sample(X_test, y_test,3)"
      ],
      "metadata": {
        "colab": {
          "base_uri": "https://localhost:8080/",
          "height": 173
        },
        "id": "bt3yjXSkQxGV",
        "outputId": "887617cb-8e71-4ebc-f04f-5adef9f58aa9"
      },
      "execution_count": null,
      "outputs": [
        {
          "output_type": "display_data",
          "data": {
            "text/plain": [
              "<Figure size 1080x144 with 1 Axes>"
            ],
            "image/png": "[encoded data removed]"
          },
          "metadata": {
            "needs_background": "light"
          }
        }
      ]
    },
    {
      "cell_type": "code",
      "source": [
        "classes[y_classes[3]]"
      ],
      "metadata": {
        "colab": {
          "base_uri": "https://localhost:8080/",
          "height": 36
        },
        "id": "rRWGXhrUQ0Uz",
        "outputId": "ddf5823d-6a78-4e78-f202-fa6960605c7c"
      },
      "execution_count": null,
      "outputs": [
        {
          "output_type": "execute_result",
          "data": {
            "text/plain": [
              "'airplane'"
            ],
            "application/vnd.google.colaboratory.intrinsic+json": {
              "type": "string"
            }
          },
          "metadata": {},
          "execution_count": 27
        }
      ]
    },
    {
      "cell_type": "code",
      "source": [
        "plot_sample(X_test, y_test,2)"
      ],
      "metadata": {
        "colab": {
          "base_uri": "https://localhost:8080/",
          "height": 173
        },
        "id": "HgcDlaICQ4i2",
        "outputId": "23ba4785-16ac-4e4a-d301-dd0d067741e0"
      },
      "execution_count": null,
      "outputs": [
        {
          "output_type": "display_data",
          "data": {
            "text/plain": [
              "<Figure size 1080x144 with 1 Axes>"
            ],
            "image/png": "[encoded data removed]"
          },
          "metadata": {
            "needs_background": "light"
          }
        }
      ]
    },
    {
      "cell_type": "code",
      "source": [
        "classes[y_classes[2]]"
      ],
      "metadata": {
        "colab": {
          "base_uri": "https://localhost:8080/",
          "height": 36
        },
        "id": "2dZA1547RFPO",
        "outputId": "daea3155-14cd-442a-ec19-1509dd74545e"
      },
      "execution_count": null,
      "outputs": [
        {
          "output_type": "execute_result",
          "data": {
            "text/plain": [
              "'ship'"
            ],
            "application/vnd.google.colaboratory.intrinsic+json": {
              "type": "string"
            }
          },
          "metadata": {},
          "execution_count": 29
        }
      ]
    },
    {
      "cell_type": "markdown",
      "source": [
        "confusion matrix for cnn architecture"
      ],
      "metadata": {
        "id": "a-Ywq4_yNirb"
      }
    },
    {
      "cell_type": "code",
      "source": [
        "from sklearn.metrics import confusion_matrix , classification_report\n",
        "import numpy as np\n",
        "y_pred = cnn.predict(X_test)\n",
        "y_pred_classes = [np.argmax(element) for element in y_pred]\n",
        "\n",
        "print(\"Classification Report: \\n\", classification_report(y_test, y_pred_classes))"
      ],
      "metadata": {
        "id": "iPtfzi-NRJ1x",
        "colab": {
          "base_uri": "https://localhost:8080/"
        },
        "outputId": "31002815-dfad-4687-d225-69f01372cffd"
      },
      "execution_count": 20,
      "outputs": [
        {
          "output_type": "stream",
          "name": "stdout",
          "text": [
            "313/313 [==============================] - 4s 13ms/step\n",
            "Classification Report: \n",
            "               precision    recall  f1-score   support\n",
            "\n",
            "           0       0.00      0.00      0.00      1000\n",
            "           1       0.10      0.86      0.17      1000\n",
            "           2       0.12      0.00      0.01      1000\n",
            "           3       0.14      0.07      0.09      1000\n",
            "           4       0.00      0.00      0.00      1000\n",
            "           5       0.00      0.00      0.00      1000\n",
            "           6       0.00      0.00      0.00      1000\n",
            "           7       0.13      0.04      0.06      1000\n",
            "           8       0.06      0.01      0.02      1000\n",
            "           9       0.00      0.00      0.00      1000\n",
            "\n",
            "    accuracy                           0.10     10000\n",
            "   macro avg       0.05      0.10      0.04     10000\n",
            "weighted avg       0.05      0.10      0.04     10000\n",
            "\n"
          ]
        },
        {
          "output_type": "stream",
          "name": "stderr",
          "text": [
            "/usr/local/lib/python3.7/dist-packages/sklearn/metrics/_classification.py:1318: UndefinedMetricWarning: Precision and F-score are ill-defined and being set to 0.0 in labels with no predicted samples. Use `zero_division` parameter to control this behavior.\n",
            "  _warn_prf(average, modifier, msg_start, len(result))\n",
            "/usr/local/lib/python3.7/dist-packages/sklearn/metrics/_classification.py:1318: UndefinedMetricWarning: Precision and F-score are ill-defined and being set to 0.0 in labels with no predicted samples. Use `zero_division` parameter to control this behavior.\n",
            "  _warn_prf(average, modifier, msg_start, len(result))\n",
            "/usr/local/lib/python3.7/dist-packages/sklearn/metrics/_classification.py:1318: UndefinedMetricWarning: Precision and F-score are ill-defined and being set to 0.0 in labels with no predicted samples. Use `zero_division` parameter to control this behavior.\n",
            "  _warn_prf(average, modifier, msg_start, len(result))\n"
          ]
        }
      ]
    },
    {
      "cell_type": "markdown",
      "source": [
        "CM for cnn1 architecture"
      ],
      "metadata": {
        "id": "86c9_DazNqG4"
      }
    },
    {
      "cell_type": "code",
      "source": [
        "from sklearn.metrics import confusion_matrix , classification_report\n",
        "import numpy as np\n",
        "y_pred = cnn1.predict(X_test)\n",
        "y_pred_classes = [np.argmax(element) for element in y_pred]\n",
        "\n",
        "print(\"Classification Report: \\n\", classification_report(y_test, y_pred_classes))"
      ],
      "metadata": {
        "colab": {
          "base_uri": "https://localhost:8080/"
        },
        "id": "pR1J2MJcB9Po",
        "outputId": "f3cadef5-ca36-4023-94c3-4c3b7ec8fa37"
      },
      "execution_count": 40,
      "outputs": [
        {
          "output_type": "stream",
          "name": "stdout",
          "text": [
            "313/313 [==============================] - 3s 8ms/step\n",
            "Classification Report: \n",
            "               precision    recall  f1-score   support\n",
            "\n",
            "           0       0.54      0.80      0.65      1000\n",
            "           1       0.69      0.78      0.74      1000\n",
            "           2       0.53      0.43      0.47      1000\n",
            "           3       0.51      0.39      0.44      1000\n",
            "           4       0.62      0.46      0.53      1000\n",
            "           5       0.58      0.49      0.53      1000\n",
            "           6       0.68      0.77      0.72      1000\n",
            "           7       0.70      0.73      0.71      1000\n",
            "           8       0.68      0.73      0.70      1000\n",
            "           9       0.69      0.69      0.69      1000\n",
            "\n",
            "    accuracy                           0.63     10000\n",
            "   macro avg       0.62      0.63      0.62     10000\n",
            "weighted avg       0.62      0.63      0.62     10000\n",
            "\n"
          ]
        }
      ]
    },
    {
      "cell_type": "markdown",
      "source": [
        "CM for cnn2 architecture"
      ],
      "metadata": {
        "id": "B9btqITbNwk8"
      }
    },
    {
      "cell_type": "code",
      "source": [
        "from sklearn.metrics import confusion_matrix , classification_report\n",
        "import numpy as np\n",
        "y_pred = cnn2.predict(X_test)\n",
        "y_pred_classes = [np.argmax(element) for element in y_pred]\n",
        "\n",
        "print(\"Classification Report: \\n\", classification_report(y_test, y_pred_classes))"
      ],
      "metadata": {
        "id": "zHgGvcCVNX73",
        "outputId": "d41e9a13-c1fc-4627-a30d-60b8b16e31c5",
        "colab": {
          "base_uri": "https://localhost:8080/"
        }
      },
      "execution_count": 41,
      "outputs": [
        {
          "output_type": "stream",
          "name": "stdout",
          "text": [
            "313/313 [==============================] - 5s 15ms/step\n",
            "Classification Report: \n",
            "               precision    recall  f1-score   support\n",
            "\n",
            "           0       0.50      0.76      0.60      1000\n",
            "           1       0.73      0.70      0.71      1000\n",
            "           2       0.47      0.44      0.45      1000\n",
            "           3       0.56      0.21      0.30      1000\n",
            "           4       0.59      0.42      0.49      1000\n",
            "           5       0.52      0.53      0.53      1000\n",
            "           6       0.63      0.73      0.68      1000\n",
            "           7       0.58      0.73      0.65      1000\n",
            "           8       0.72      0.63      0.67      1000\n",
            "           9       0.62      0.72      0.67      1000\n",
            "\n",
            "    accuracy                           0.59     10000\n",
            "   macro avg       0.59      0.59      0.58     10000\n",
            "weighted avg       0.59      0.59      0.58     10000\n",
            "\n"
          ]
        }
      ]
    }
  ]
}