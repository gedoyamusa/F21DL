{
 "cells": [
  {
   "cell_type": "code",
   "execution_count": 3,
   "metadata": {},
   "outputs": [],
   "source": [
    "import cv2\n",
    "import matplotlib.pyplot as plt\n",
    "import numpy as np\n",
    "import os \n",
    "import pandas as pd\n",
    "from sklearn.model_selection import train_test_split"
   ]
  },
  {
   "cell_type": "code",
   "execution_count": 14,
   "metadata": {},
   "outputs": [
    {
     "name": "stdout",
     "output_type": "stream",
     "text": [
      "bottas_2.jpg\n",
      "bottas_3.jpg\n",
      "bottas_1.jpg\n",
      "hamilton_1.jpg\n",
      "hamilton_2.jpg\n",
      "russell_1.jpg\n"
     ]
    }
   ],
   "source": [
    "\n",
    "\n",
    "\n",
    "from fileinput import filename\n",
    "from tabnanny import filename_only\n",
    "\n",
    "\n",
    "image_dir = '/Users/kevinc/Desktop/F21DL Data Mining Machine Learning/ExampleImages'\n",
    "# New shape for images:\n",
    "new_size = (256, 256)\n",
    "\n",
    "for filename in os.listdir(image_dir):\n",
    "  print(filename)"
   ]
  }
 ],
 "metadata": {
  "kernelspec": {
   "display_name": "Python 3.9.12 ('base')",
   "language": "python",
   "name": "python3"
  },
  "language_info": {
   "codemirror_mode": {
    "name": "ipython",
    "version": 3
   },
   "file_extension": ".py",
   "mimetype": "text/x-python",
   "name": "python",
   "nbconvert_exporter": "python",
   "pygments_lexer": "ipython3",
   "version": "3.9.12"
  },
  "orig_nbformat": 4,
  "vscode": {
   "interpreter": {
    "hash": "9692aa06d809dc27872443562869b4dd1e6a158ca861856e2a15b8fcc04a0498"
   }
  }
 },
 "nbformat": 4,
 "nbformat_minor": 2
}
